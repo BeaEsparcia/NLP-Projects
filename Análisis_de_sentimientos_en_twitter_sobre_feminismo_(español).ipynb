{
  "nbformat": 4,
  "nbformat_minor": 0,
  "metadata": {
    "colab": {
      "provenance": [],
      "authorship_tag": "ABX9TyOzh75jlfgXQqQnkubXjgQl",
      "include_colab_link": true
    },
    "kernelspec": {
      "name": "python3",
      "display_name": "Python 3"
    },
    "language_info": {
      "name": "python"
    }
  },
  "cells": [
    {
      "cell_type": "markdown",
      "metadata": {
        "id": "view-in-github",
        "colab_type": "text"
      },
      "source": [
        "<a href=\"https://colab.research.google.com/github/BeaEsparcia/NLP-Projects/blob/main/An%C3%A1lisis_de_sentimientos_en_twitter_sobre_feminismo_(espa%C3%B1ol).ipynb\" target=\"_parent\"><img src=\"https://colab.research.google.com/assets/colab-badge.svg\" alt=\"Open In Colab\"/></a>"
      ]
    },
    {
      "cell_type": "markdown",
      "source": [
        "En el contexto de las discusiones digitales sobre feminismo, tanto individuos interesados como organizaciones luchan por comprender el sentimiento público general, lo que dificulta la promoción eficaz de la igualdad de género.\n",
        "\n",
        "**Entender los sentimientos hacia el feminismo es vital para abordar desinformaciones**, ajustar estrategias de comunicación y promover un diálogo constructivo sobre la igualdad de género.\n",
        "\n",
        "El objetivo de esta práctica es  **desarrollar un análisis que revele tendencias de sentimiento (positivas, negativas, neutrales) en publicaciones digitales sobre el feminismo**, que proporcionen datos reveladores para crear estrategias comunicativas más efectivas."
      ],
      "metadata": {
        "id": "NMhdWEwY80kh"
      }
    },
    {
      "cell_type": "markdown",
      "source": [
        "Preparo mi entorno de Colab instalando la biblioteca Transformers"
      ],
      "metadata": {
        "id": "FtyFa6V29Ftq"
      }
    },
    {
      "cell_type": "code",
      "source": [
        "!pip install transformers\n"
      ],
      "metadata": {
        "colab": {
          "base_uri": "https://localhost:8080/"
        },
        "id": "MnjoLd-s9QMG",
        "outputId": "c401c9da-fb00-4f59-f90f-10965adbbaa3"
      },
      "execution_count": null,
      "outputs": [
        {
          "output_type": "stream",
          "name": "stdout",
          "text": [
            "Requirement already satisfied: transformers in /usr/local/lib/python3.10/dist-packages (4.38.2)\n",
            "Requirement already satisfied: filelock in /usr/local/lib/python3.10/dist-packages (from transformers) (3.13.3)\n",
            "Requirement already satisfied: huggingface-hub<1.0,>=0.19.3 in /usr/local/lib/python3.10/dist-packages (from transformers) (0.20.3)\n",
            "Requirement already satisfied: numpy>=1.17 in /usr/local/lib/python3.10/dist-packages (from transformers) (1.25.2)\n",
            "Requirement already satisfied: packaging>=20.0 in /usr/local/lib/python3.10/dist-packages (from transformers) (24.0)\n",
            "Requirement already satisfied: pyyaml>=5.1 in /usr/local/lib/python3.10/dist-packages (from transformers) (6.0.1)\n",
            "Requirement already satisfied: regex!=2019.12.17 in /usr/local/lib/python3.10/dist-packages (from transformers) (2023.12.25)\n",
            "Requirement already satisfied: requests in /usr/local/lib/python3.10/dist-packages (from transformers) (2.31.0)\n",
            "Requirement already satisfied: tokenizers<0.19,>=0.14 in /usr/local/lib/python3.10/dist-packages (from transformers) (0.15.2)\n",
            "Requirement already satisfied: safetensors>=0.4.1 in /usr/local/lib/python3.10/dist-packages (from transformers) (0.4.2)\n",
            "Requirement already satisfied: tqdm>=4.27 in /usr/local/lib/python3.10/dist-packages (from transformers) (4.66.2)\n",
            "Requirement already satisfied: fsspec>=2023.5.0 in /usr/local/lib/python3.10/dist-packages (from huggingface-hub<1.0,>=0.19.3->transformers) (2023.6.0)\n",
            "Requirement already satisfied: typing-extensions>=3.7.4.3 in /usr/local/lib/python3.10/dist-packages (from huggingface-hub<1.0,>=0.19.3->transformers) (4.10.0)\n",
            "Requirement already satisfied: charset-normalizer<4,>=2 in /usr/local/lib/python3.10/dist-packages (from requests->transformers) (3.3.2)\n",
            "Requirement already satisfied: idna<4,>=2.5 in /usr/local/lib/python3.10/dist-packages (from requests->transformers) (3.6)\n",
            "Requirement already satisfied: urllib3<3,>=1.21.1 in /usr/local/lib/python3.10/dist-packages (from requests->transformers) (2.0.7)\n",
            "Requirement already satisfied: certifi>=2017.4.17 in /usr/local/lib/python3.10/dist-packages (from requests->transformers) (2024.2.2)\n"
          ]
        }
      ]
    },
    {
      "cell_type": "markdown",
      "source": [
        "Cargo el modelo BETO (BERT para español) y el tokenizador"
      ],
      "metadata": {
        "id": "wcsqU9qA9tk3"
      }
    },
    {
      "cell_type": "code",
      "source": [
        "from transformers import AutoModelForSequenceClassification, AutoTokenizer, pipeline\n",
        "\n",
        "model_name = \"dccuchile/bert-base-spanish-wwm-cased\"\n",
        "model = AutoModelForSequenceClassification.from_pretrained(model_name, num_labels=3) #Clasifico el sentimiento en tres categorías.\n",
        "tokenizer = AutoTokenizer.from_pretrained(model_name)\n",
        "\n",
        "nlp = pipeline(\"sentiment-analysis\", model=model, tokenizer=tokenizer)\n",
        "#creo una pipeline de análisis de sentimientos usando la biblioteca transformers, la cual prepara el modelo BETO y su tokenizador correspondiente para evaluar y clasificar los sentimientos de los textos ingresados."
      ],
      "metadata": {
        "colab": {
          "base_uri": "https://localhost:8080/"
        },
        "id": "gEvQ5p_Z-Ay3",
        "outputId": "2370d525-9abc-4ed6-e257-4dd5c9ee59e5"
      },
      "execution_count": null,
      "outputs": [
        {
          "output_type": "stream",
          "name": "stderr",
          "text": [
            "Some weights of BertForSequenceClassification were not initialized from the model checkpoint at dccuchile/bert-base-spanish-wwm-cased and are newly initialized: ['bert.pooler.dense.bias', 'bert.pooler.dense.weight', 'classifier.bias', 'classifier.weight']\n",
            "You should probably TRAIN this model on a down-stream task to be able to use it for predictions and inference.\n"
          ]
        }
      ]
    },
    {
      "cell_type": "code",
      "source": [
        "#Preparo los tuits recolectados en una lista, para ser procesados.\n",
        "\n",
        "tweets = [\n",
        "    \"El feminismo arruinó el mundo y algunas aún no la ven.\",\n",
        "    \"@perezreverte Sobre mujer y #feminismo hay mucho ruido, y a veces, mucha demagogia y mucho folclore. Lo que hemos querido ha sido traer a autoridades, un discurso serio de mujeres con una presencia y una trayectoria importante y consolidada, mujeres decisivas e influyentes de verdad, no para que nos cuenten lo que debe ser la mujer en el futuro, que todos lo sabemos, sino cómo es la mujer ahora y cómo se ha hecho, hasta dónde han llegado, por qué, cómo y contra qué. Ese tipo de mujeres que son las que nos interesan de verdad, con discursos solventes y serios, con autoridad, son las que realmente van a ocupar los asientos en estas tres jornadas.\",\n",
        "    \"Erradicando toda clase de injusticias: El Movimiento Feminista es inherentemente interseccional, lo que significa que reconoce y aborda las intersecciones de la opresión, incluidas la raza, la clase, la sexual…\",\n",
        "    \"La mejor ministra que ha tenido este país #irenemontero #feminismo\",\n",
        "    \"Todas las políticas woke quieren acabar con el prototipo de hombre necesario para la sociedad\",\n",
        "    \"Y finalmente la #masculinidad #tóxica se basa en lo q dije pq si la mujer deja de depender de un hombre, el hombre ve que ya no aporta, q ya no le dependen,…y deja de sentirse hombre\",\n",
        "    \"Me cago en la cuotas vaginales. Ahora resulta que la empresa que me echó de la formación se arrepiente y me ofrece la posibilidad de trabajar con ellos, y yo ocupo el lugar de una mujer que no ha durado ni un día. Alucinante.\",\n",
        "    \"SÍ. SOY FEMINISTA. #feminismo #igualdad #8Marzo #8M\",\n",
        "    \"En el autobús, 8 personas hablando de machismo en España. 7 tíos jóvenes diciendo que hay machismo y la única tía jóven niega que haya machismo. Los hombres jóvenes están agilipollados.\",\n",
        "    \"el feminismo es la justicia de este siglo #feminismo #irenemontero #8Marzo #8M\",\n",
        "    \"Sin #Abolición de la #Prostitución, no habrá igualdad El #Feminismo es #Abolicionista. Los seres humanos no son mercancía que vender y con la que tratar. #AbolicionProstitucion #ProstitucionEsViolenciaSexual\",\n",
        "    \"Viva la LUCHA FEMINISTA #feminismo #igualdad #8Marzo #8M\",\n",
        "    \"«No hay barrera cerradura, ni cerrojo que puedas imponer a la libertad de tu mente» Virginia Woolf #TalDiaComoHoy moría una de las grandes de la historia dla #literatura en general y del #feminismo #NOALOLVIDO #ComparteCultura #Cultura #MemoriaHistórica #feminismo\",\n",
        "    \"Emmeline Pankhurst fue la líder del movimiento feminista y sufragista del Reino Unido. Fue encarcelada en múltiples ocasiones y llevó a cabo varias huelgas de hambre dentro de la prisión a modo de protesta. #feminismo #feministasabolicionistas #feminismoradical\",\n",
        "    \"Las feministas vandalizaron el #8M la Universidad del Rosario en #Bogota. Han pasado 20 días y nada que limpian. ¡Dañaron nuestro patrimonio cultural y hay que saber cuánto nos costará su chiste a la ciudadanía! #NoAlVandalismo #feminismo #izquierda #Colombia\",\n",
        "    \"#Feminismo #Hombres #Mujeres #DerechosHumanos Lo dicho: Las feministas tienen envidia de pene.\",\n",
        "    \"Las denuncias falsas no existen ya... Al menos 1 de cada 7 de todos los hombres ha sufrido una acusación falsa de agresión o violencia sexual. Eso es mucho más que los agresores auténticos... En divorcios, más del 50% de denuncias resultan ser falsas\",\n",
        "    \"Miles de hombres se suicidan en nuestro país cada año Cuántos más tendremos que ver morir para que paren esta masacre? Tienen algo que decir sobre esto las mujeres que denuncian en falso?\",\n",
        "    \"No somos mujeres. Les damos igual. No. No les damos igual. Peor aún…\",\n",
        "    \"No, no hay ningún problema con estar sola. El problema radica en la razón por la que estás sola, si es por odio, resentimiento o porque te has comido la narrativa del 'empoderamiento', entonces si hay un problema; porque esa soledad, no viene de un corazón sano.\"\n",
        "]\n"
      ],
      "metadata": {
        "id": "YfEDUn0FGDlA"
      },
      "execution_count": null,
      "outputs": []
    },
    {
      "cell_type": "code",
      "source": [
        "#Analizo los sentimientos de cada tuit e imprimo los resultados.\n",
        "for tweet in tweets:\n",
        "    result = nlp(tweet)\n",
        "    print(f\"Tweet: {tweet}\\nSentimiento: {result}\\n\")"
      ],
      "metadata": {
        "colab": {
          "base_uri": "https://localhost:8080/"
        },
        "id": "aTOYJPrRGtFX",
        "outputId": "78c54352-9488-4d9a-8ddf-ed8512873fdd"
      },
      "execution_count": null,
      "outputs": [
        {
          "output_type": "stream",
          "name": "stdout",
          "text": [
            "Tweet: El feminismo arruinó el mundo y algunas aún no la ven.\n",
            "Sentimiento: [{'label': 'LABEL_0', 'score': 0.36417436599731445}]\n",
            "\n",
            "Tweet: @perezreverte Sobre mujer y #feminismo hay mucho ruido, y a veces, mucha demagogia y mucho folclore. Lo que hemos querido ha sido traer a autoridades, un discurso serio de mujeres con una presencia y una trayectoria importante y consolidada, mujeres decisivas e influyentes de verdad, no para que nos cuenten lo que debe ser la mujer en el futuro, que todos lo sabemos, sino cómo es la mujer ahora y cómo se ha hecho, hasta dónde han llegado, por qué, cómo y contra qué. Ese tipo de mujeres que son las que nos interesan de verdad, con discursos solventes y serios, con autoridad, son las que realmente van a ocupar los asientos en estas tres jornadas.\n",
            "Sentimiento: [{'label': 'LABEL_0', 'score': 0.3532871901988983}]\n",
            "\n",
            "Tweet: Erradicando toda clase de injusticias: El Movimiento Feminista es inherentemente interseccional, lo que significa que reconoce y aborda las intersecciones de la opresión, incluidas la raza, la clase, la sexual…\n",
            "Sentimiento: [{'label': 'LABEL_2', 'score': 0.40407702326774597}]\n",
            "\n",
            "Tweet: La mejor ministra que ha tenido este país #irenemontero #feminismo\n",
            "Sentimiento: [{'label': 'LABEL_2', 'score': 0.36735883355140686}]\n",
            "\n",
            "Tweet: Todas las políticas woke quieren acabar con el prototipo de hombre necesario para la sociedad\n",
            "Sentimiento: [{'label': 'LABEL_2', 'score': 0.3716360330581665}]\n",
            "\n",
            "Tweet: Y finalmente la #masculinidad #tóxica se basa en lo q dije pq si la mujer deja de depender de un hombre, el hombre ve que ya no aporta, q ya no le dependen,…y deja de sentirse hombre\n",
            "Sentimiento: [{'label': 'LABEL_2', 'score': 0.37940603494644165}]\n",
            "\n",
            "Tweet: Me cago en la cuotas vaginales. Ahora resulta que la empresa que me echó de la formación se arrepiente y me ofrece la posibilidad de trabajar con ellos, y yo ocupo el lugar de una mujer que no ha durado ni un día. Alucinante.\n",
            "Sentimiento: [{'label': 'LABEL_0', 'score': 0.3996769189834595}]\n",
            "\n",
            "Tweet: SÍ. SOY FEMINISTA. #feminismo #igualdad #8Marzo #8M\n",
            "Sentimiento: [{'label': 'LABEL_2', 'score': 0.3523135185241699}]\n",
            "\n",
            "Tweet: En el autobús, 8 personas hablando de machismo en España. 7 tíos jóvenes diciendo que hay machismo y la única tía jóven niega que haya machismo. Los hombres jóvenes están agilipollados.\n",
            "Sentimiento: [{'label': 'LABEL_2', 'score': 0.3603323996067047}]\n",
            "\n",
            "Tweet: el feminismo es la justicia de este siglo #feminismo #irenemontero #8Marzo #8M\n",
            "Sentimiento: [{'label': 'LABEL_2', 'score': 0.3603420853614807}]\n",
            "\n",
            "Tweet: Sin #Abolición de la #Prostitución, no habrá igualdad El #Feminismo es #Abolicionista. Los seres humanos no son mercancía que vender y con la que tratar. #AbolicionProstitucion #ProstitucionEsViolenciaSexual\n",
            "Sentimiento: [{'label': 'LABEL_2', 'score': 0.3600955903530121}]\n",
            "\n",
            "Tweet: Viva la LUCHA FEMINISTA #feminismo #igualdad #8Marzo #8M\n",
            "Sentimiento: [{'label': 'LABEL_2', 'score': 0.3478352129459381}]\n",
            "\n",
            "Tweet: «No hay barrera cerradura, ni cerrojo que puedas imponer a la libertad de tu mente» Virginia Woolf #TalDiaComoHoy moría una de las grandes de la historia dla #literatura en general y del #feminismo #NOALOLVIDO #ComparteCultura #Cultura #MemoriaHistórica #feminismo\n",
            "Sentimiento: [{'label': 'LABEL_2', 'score': 0.35132110118865967}]\n",
            "\n",
            "Tweet: Emmeline Pankhurst fue la líder del movimiento feminista y sufragista del Reino Unido. Fue encarcelada en múltiples ocasiones y llevó a cabo varias huelgas de hambre dentro de la prisión a modo de protesta. #feminismo #feministasabolicionistas #feminismoradical\n",
            "Sentimiento: [{'label': 'LABEL_2', 'score': 0.36057862639427185}]\n",
            "\n",
            "Tweet: Las feministas vandalizaron el #8M la Universidad del Rosario en #Bogota. Han pasado 20 días y nada que limpian. ¡Dañaron nuestro patrimonio cultural y hay que saber cuánto nos costará su chiste a la ciudadanía! #NoAlVandalismo #feminismo #izquierda #Colombia\n",
            "Sentimiento: [{'label': 'LABEL_1', 'score': 0.34197622537612915}]\n",
            "\n",
            "Tweet: #Feminismo #Hombres #Mujeres #DerechosHumanos Lo dicho: Las feministas tienen envidia de pene.\n",
            "Sentimiento: [{'label': 'LABEL_2', 'score': 0.3699174225330353}]\n",
            "\n",
            "Tweet: Las denuncias falsas no existen ya... Al menos 1 de cada 7 de todos los hombres ha sufrido una acusación falsa de agresión o violencia sexual. Eso es mucho más que los agresores auténticos... En divorcios, más del 50% de denuncias resultan ser falsas\n",
            "Sentimiento: [{'label': 'LABEL_0', 'score': 0.3604559898376465}]\n",
            "\n",
            "Tweet: Miles de hombres se suicidan en nuestro país cada año Cuántos más tendremos que ver morir para que paren esta masacre? Tienen algo que decir sobre esto las mujeres que denuncian en falso?\n",
            "Sentimiento: [{'label': 'LABEL_0', 'score': 0.3673025965690613}]\n",
            "\n",
            "Tweet: No somos mujeres. Les damos igual. No. No les damos igual. Peor aún…\n",
            "Sentimiento: [{'label': 'LABEL_2', 'score': 0.3620305359363556}]\n",
            "\n",
            "Tweet: No, no hay ningún problema con estar sola. El problema radica en la razón por la que estás sola, si es por odio, resentimiento o porque te has comido la narrativa del 'empoderamiento', entonces si hay un problema; porque esa soledad, no viene de un corazón sano.\n",
            "Sentimiento: [{'label': 'LABEL_2', 'score': 0.3547070026397705}]\n",
            "\n"
          ]
        }
      ]
    },
    {
      "cell_type": "markdown",
      "source": [
        " El modelo clasifica cada entrada de texto en una de estas tres categorías: 0 para negativo, 1 neutral y 2 positivo.\n",
        "\n",
        "  La salida del modelo también incluye un score para cada clasificación, que indica la confianza del modelo en su predicción.\n",
        "\n",
        "  Muchos de los tuits han sido catalogados como positivos (label 2), aunque fuesen sarcásticos, lo que nos indica que el modelo no es del todo confiable a la hora de captar dobles intenciones o sarcasmos."
      ],
      "metadata": {
        "id": "CllobFHwcg7G"
      }
    },
    {
      "cell_type": "markdown",
      "source": [
        "Para realizar un análisis cuantitativo, primero categorizo cada tuit según su etiqueta de sentimiento (LABEL_0, LABEL_1, LABEL_2) y luego cuento cuántos tweets hay en cada categoría."
      ],
      "metadata": {
        "id": "btdOaOaKf7pC"
      }
    },
    {
      "cell_type": "code",
      "source": [
        "#Estructuro los resultados del análisis de sentimientos. He creado un diccionario para cada tuit con los campos texto, label, y score, y luego lo he organizado todo en una lista.\n",
        "\n",
        "resultados_sentimientos = [\n",
        "    {\"texto\": \"El feminismo arruinó el mundo y algunas aún no la ven.\", \"label\": \"LABEL_0\", \"score\": 0.36417436599731445},\n",
        "    {\"texto\": \"@perezreverte Sobre mujer y #feminismo hay mucho ruido, y a veces, mucha demagogia y mucho folclore. Lo que hemos querido ha sido traer a autoridades, un discurso serio de mujeres con una presencia y una trayectoria importante y consolidada, mujeres decisivas e influyentes de verdad, no para que nos cuenten lo que debe ser la mujer en el futuro, que todos lo sabemos, sino cómo es la mujer ahora y cómo se ha hecho, hasta dónde han llegado, por qué, cómo y contra qué. Ese tipo de mujeres que son las que nos interesan de verdad, con discursos solventes y serios, con autoridad, son las que realmente van a ocupar los asientos en estas tres jornadas.\", \"label\": \"LABEL_0\", \"score\": 0.3532871901988983},\n",
        "    {\"texto\": \"Erradicando toda clase de injusticias: El Movimiento Feminista es inherentemente interseccional, lo que significa que reconoce y aborda las intersecciones de la opresión, incluidas la raza, la clase, la sexual…\", \"label\": \"LABEL_2\", \"score\": 0.40407702326774597},\n",
        "    {\"texto\": \"La mejor ministra que ha tenido este país #irenemontero #feminismo\", \"label\": \"LABEL_2\", \"score\": 0.36735883355140686},\n",
        "    {\"texto\": \"Todas las políticas woke quieren acabar con el prototipo de hombre necesario para la sociedad\", \"label\": \"LABEL_2\", \"score\": 0.3716360330581665},\n",
        "    {\"texto\": \"Y finalmente la #masculinidad #tóxica se basa en lo q dije pq si la mujer deja de depender de un hombre, el hombre ve que ya no aporta, q ya no le dependen,…y deja de sentirse hombre\", \"label\": \"LABEL_2\", \"score\": 0.37940603494644165},\n",
        "    {\"texto\": \"Me cago en la cuotas vaginales. Ahora resulta que la empresa que me echó de la formación se arrepiente y me ofrece la posibilidad de trabajar con ellos, y yo ocupo el lugar de una mujer que no ha durado ni un día. Alucinante.\", \"label\": \"LABEL_0\", \"score\": 0.3996769189834595},\n",
        "    {\"texto\": \"SÍ. SOY FEMINISTA. #feminismo #igualdad #8Marzo #8M\", \"label\": \"LABEL_2\", \"score\": 0.3523135185241699},\n",
        "    {\"texto\": \"En el autobús, 8 personas hablando de machismo en España. 7 tíos jóvenes diciendo que hay machismo y la única tía jóven niega que haya machismo. Los hombres jóvenes están agilipollados.\", \"label\": \"LABEL_2\", \"score\": 0.3603323996067047},\n",
        "    {\"texto\": \"el feminismo es la justicia de este siglo #feminismo #irenemontero #8Marzo #8M\", \"label\": \"LABEL_2\", \"score\": 0.3603420853614807},\n",
        "    {\"texto\": \"Sin #Abolición de la #Prostitución, no habrá igualdad El #Feminismo es #Abolicionista. Los seres humanos no son mercancía que vender y con la que tratar. #AbolicionProstitucion #ProstitucionEsViolenciaSexual\", \"label\": \"LABEL_2\", \"score\": 0.3600955903530121},\n",
        "    {\"texto\": \"Viva la LUCHA FEMINISTA #feminismo #igualdad #8Marzo #8M\", \"label\": \"LABEL_2\", \"score\": 0.3478352129459381},\n",
        "    {\"texto\": \"«No hay barrera cerradura, ni cerrojo que puedas imponer a la libertad de tu mente» Virginia Woolf #TalDiaComoHoy moría una de las grandes de la historia dla #literatura en general y del #feminismo #NOALOLVIDO #ComparteCultura #Cultura #MemoriaHistórica #feminismo\", \"label\": \"LABEL_2\", \"score\": 0.35132110118865967},\n",
        "    {\"texto\": \"Emmeline Pankhurst fue la líder del movimiento feminista y sufragista del Reino Unido. Fue encarcelada en múltiples ocasiones y llevó a cabo varias huelgas de hambre dentro de la prisión a modo de protesta. #feminismo #feministasabolicionistas #feminismoradical\", \"label\": \"LABEL_2\", \"score\": 0.36057862639427185},\n",
        "    {\"texto\": \"Las feministas vandalizaron el #8M la Universidad del Rosario en #Bogota. Han pasado 20 días y nada que limpian. ¡Dañaron nuestro patrimonio cultural y hay que saber cuánto nos costará su chiste a la ciudadanía! #NoAlVandalismo #feminismo #izquierda #Colombia\", \"label\": \"LABEL_1\", \"score\": 0.34197622537612915},\n",
        "    {\"texto\": \"#Feminismo #Hombres #Mujeres #DerechosHumanos Lo dicho: Las feministas tienen envidia de pene.\", \"label\": \"LABEL_2\", \"score\": 0.3699174225330353},\n",
        "    {\"texto\": \"Las denuncias falsas no existen ya... Al menos 1 de cada 7 de todos los hombres ha sufrido una acusación falsa de agresión o violencia sexual. Eso es mucho más que los agresores auténticos... En divorcios, más del 50% de denuncias resultan ser falsas\", \"label\": \"LABEL_0\", \"score\": 0.3604559898376465},\n",
        "    {\"texto\": \"Miles de hombres se suicidan en nuestro país cada año Cuántos más tendremos que ver morir para que paren esta masacre? Tienen algo que decir sobre esto las mujeres que denuncian en falso?\", \"label\": \"LABEL_0\", \"score\": 0.3673025965690613},\n",
        "    {\"texto\": \"No somos mujeres. Les damos igual. No. No les damos igual. Peor aún…\", \"label\": \"LABEL_2\", \"score\": 0.3620305359363556},\n",
        "    {\"texto\": \"No, no hay ningún problema con estar sola. El problema radica en la razón por la que estás sola, si es por odio, resentimiento o porque te has comido la narrativa del 'empoderamiento', entonces si hay un problema; porque esa soledad, no viene de un corazón sano.\", \"label\": \"LABEL_2\", \"score\": 0.3547070026397705}\n",
        "]\n",
        "\n"
      ],
      "metadata": {
        "id": "03alhikogMp5"
      },
      "execution_count": null,
      "outputs": []
    },
    {
      "cell_type": "markdown",
      "source": [
        "Lo organizo en un DataFrame y cuento las etiquetas."
      ],
      "metadata": {
        "id": "Eoh1xby1jOI9"
      }
    },
    {
      "cell_type": "code",
      "source": [
        "import pandas as pd\n",
        "\n",
        "# Convierto los resultados en un DataFrame\n",
        "df = pd.DataFrame(resultados_sentimientos)\n",
        "\n",
        "# Cuento cuántos tuits hay en cada categoría de 'label'\n",
        "conteo_labels = df['label'].value_counts()\n",
        "\n",
        "# Muestro los conteos\n",
        "print(conteo_labels)\n"
      ],
      "metadata": {
        "colab": {
          "base_uri": "https://localhost:8080/"
        },
        "id": "l3ZUdPO1jV3C",
        "outputId": "d2731a17-0d43-4a49-f0ee-f2c510984fb4"
      },
      "execution_count": null,
      "outputs": [
        {
          "output_type": "stream",
          "name": "stdout",
          "text": [
            "LABEL_2    14\n",
            "LABEL_0     5\n",
            "LABEL_1     1\n",
            "Name: label, dtype: int64\n"
          ]
        }
      ]
    },
    {
      "cell_type": "markdown",
      "source": [
        "Para visualizar los resultados en un código de barras, utilizo 'matplotlib'"
      ],
      "metadata": {
        "id": "zJ3bxGJWj-Sh"
      }
    },
    {
      "cell_type": "code",
      "source": [
        "# Importo 'matplotlib'\n",
        "import matplotlib.pyplot as plt\n",
        "\n",
        "# Genero un gráfico de barras\n",
        "conteo_labels.plot(kind='bar', color=['red', 'blue', 'green'])\n",
        "plt.title('Distribución de sentimientos en tuits sobre feminismo')\n",
        "plt.xlabel('Etiqueta de sentimiento')\n",
        "plt.ylabel('Número de tuits')\n",
        "plt.xticks(rotation=0)\n",
        "plt.show()\n"
      ],
      "metadata": {
        "colab": {
          "base_uri": "https://localhost:8080/",
          "height": 472
        },
        "id": "ztcA7mxRkTUK",
        "outputId": "e6afedc8-d23d-4b61-82ea-7b50539b321f"
      },
      "execution_count": null,
      "outputs": [
        {
          "output_type": "display_data",
          "data": {
            "text/plain": [
              "<Figure size 640x480 with 1 Axes>"
            ],
            "image/png": "[encoded data removed]"
          },
          "metadata": {}
        }
      ]
    }
  ]
}